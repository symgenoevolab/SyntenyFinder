{
 "cells": [
  {
   "cell_type": "code",
   "execution_count": null,
   "id": "fc4a5eb4-2867-414b-ba86-5524521c22f7",
   "metadata": {},
   "outputs": [],
   "source": [
    "# Isabel Jiah-Yih Liao\n",
    "# September 2024 \n",
    "# Synteny main \n",
    "\n",
    "##############\n",
    "### Notes: \n",
    "##############\n",
    "# Please ensure the correct intake files are in the correct directories prior to running. \n",
    "\n",
    "# If you would like to include an orthofinder run, create a directory under your root directory \n",
    "# called 'orthofinder_output' and place the results in the folder. If you are running orthofinder \n",
    "# within the script, do not include this file, as orthofinder will not run if this file already exists. \n",
    "\n",
    "# Expected files: \n",
    "#\n",
    "# root_directory (specified in settings) \n",
    "# ├── Synteny_main.ipynb\n",
    "# ├── dependencies\n",
    "# │   └── Synteny_functions.ipynb\n",
    "# ├── input_data\n",
    "# │   ├── gene_rows\n",
    "# │   │   ├── sp1.gtf\n",
    "# │   │   ├── sp2.gtf\n",
    "# │   │   ├── sp3.gtf\n",
    "# │   │   └── ...\n",
    "# │   ├── genome\n",
    "# │   │   ├── sp1.fna\n",
    "# │   │   ├── sp2.fna\n",
    "# │   │   ├── sp3.fna\n",
    "# │   │   └── ...\n",
    "# │   └── proteomes\n",
    "# │       ├── sp1.fasta\n",
    "# │       ├── sp2.fasta\n",
    "# │       ├── sp3.fasta\n",
    "# │       └── ...\n",
    "# └── orthofinder_output (OPTIONAL INPUT: can also be run from this script) \n",
    "#     └── Results_MmmDD (can be any name) \n",
    "#         ├── Orthogroups\n",
    "#         │   ├── Orthogroups.tsv\n",
    "#         │   └── ...\n",
    "#         └── ... \n",
    "#\n",
    "# Make sure all input files have a backup copy to avoid losing information. \n",
    "\n",
    "# Resulting directory after running the program: \n",
    "# root_directory\n",
    "# ├── Synteny_main.ipynb\n",
    "# ├── dependencies\n",
    "# │   └── ...\n",
    "# ├── input_data\n",
    "# │   └── ...\n",
    "# └── run_name \n",
    "#     ├── output\n",
    "#     │   ├── sp1_coordinates.tsv\n",
    "#     │   ├── sp1_karyotype.txt\n",
    "#     │   ├── sp2_coordinates.tsv\n",
    "#     │   ├── sp2_karyotype.txt\n",
    "#     │   ├── sp3_coordinates.tsv\n",
    "#     │   └── sp3_karyotype.txt\n",
    "#     └── run_files\n",
    "#         ├── orthofinder_output\n",
    "#         │   ├── Orthogroups\n",
    "#         │   │   └── ...\n",
    "#         │   └── ... \n",
    "#         └── run_proteomes\n",
    "#             ├── sp1.fasta\n",
    "#             ├── sp2.fasta\n",
    "#             ├── sp3.fasta\n",
    "#             └── ..."
   ]
  },
  {
   "cell_type": "code",
   "execution_count": null,
   "id": "22bd541f-e432-407b-ad1a-81073812b3a6",
   "metadata": {},
   "outputs": [],
   "source": [
    "##########\n",
    "## Preparation \n",
    "##########\n",
    "\n",
    "# Import necessary dependencies\n",
    "import subprocess \n",
    "import os\n",
    "import re\n",
    "import pickle\n",
    "import pandas as pd\n",
    "from Bio import SeqIO \n",
    "%run Synteny_functions.ipynb"
   ]
  },
  {
   "cell_type": "code",
   "execution_count": null,
   "id": "e7ba2f09-ec07-4475-bd2a-aa3789450b77",
   "metadata": {},
   "outputs": [],
   "source": [
    "##########\n",
    "## Settings\n",
    "##########\n",
    "\n",
    "# Set up directories \n",
    "# Directory containing Synteny_main.ipynb, dependencies, and input data)\n",
    "root_directory = './synteny' \n",
    "\n",
    "# List of codes for the respective species to include\n",
    "species_codes = [ 'sp1', 'sp2', 'sp3']\n",
    "run_name = 'synteny_finder' \n",
    "\n",
    "# Location of your executable orthofinder \n",
    "orthofinder_path = '/path/to/orthofinder'\n",
    "threads = 150"
   ]
  },
  {
   "cell_type": "code",
   "execution_count": null,
   "id": "1780a335-0748-4058-b3ec-c31d8055011b",
   "metadata": {},
   "outputs": [],
   "source": [
    "##########\n",
    "## START\n",
    "##########\n",
    "\n",
    "# Create a Synteny object. Use .fasta for proteome file extensions rather than .fa. \n",
    "synteny = Synteny(root_directory, run_name, species_codes, proteome_ext = '.fasta')"
   ]
  },
  {
   "cell_type": "code",
   "execution_count": null,
   "id": "396ffb7a-5072-4bb1-a00a-2418a8bd1727",
   "metadata": {},
   "outputs": [],
   "source": [
    "##########\n",
    "## Creating the karyotype files\n",
    "##########\n",
    "\n",
    "# Read the genome file to find the chromosomes and their associated lengths. \n",
    "# Specify the number of chromosomes n in each species. The longest n scaffolds \n",
    "# in each genome will be taken as the chromosomes. \n",
    "\n",
    "# Tip: If you are uncertain about the number of chromosomes, set the karyotype values \n",
    "# higher and look at how the scaffolds are named. \n",
    "\n",
    "chromosomes = {'sp1': 19, 'sp2': 18, 'sp3': 18}\n",
    "synteny.build_karyotype(chromosomes)"
   ]
  },
  {
   "cell_type": "code",
   "execution_count": null,
   "id": "b799423b-608b-42ce-a97f-2417b6f3c93b",
   "metadata": {},
   "outputs": [],
   "source": [
    "# To format the karyotype file, pass a list containing the vales of each column. \n",
    "# 'Chromosome', 'Length', and 'SPECIES' are all keywords allowing their associated data to be pulled. \n",
    "# Any non-keywords in the 'columns' list will yield a column containing that value. \n",
    "# Optionally, pass a 'labels' variable to relabel the column names. \n",
    "columns = ['Chromosome', '1', 'Length', 'SPECIES', '12', '25252']\n",
    "labels = ['Chr', 'Start', 'End', 'species', 'size', 'color'] \n",
    "synteny.clean_karyotype(columns, labels)"
   ]
  },
  {
   "cell_type": "code",
   "execution_count": null,
   "id": "cf0afd2d-7ba5-4dd0-b8ec-f4de7570aae8",
   "metadata": {},
   "outputs": [],
   "source": [
    "# Write the karyotype files to the output folder. \n",
    "synteny.write_karyotype()"
   ]
  },
  {
   "cell_type": "code",
   "execution_count": null,
   "id": "84d0d4b0-18c5-4e89-86da-9672bd3ab896",
   "metadata": {},
   "outputs": [],
   "source": [
    "# # Read the proteomes into Python \n",
    "# synteny.read_proteomes()"
   ]
  },
  {
   "cell_type": "code",
   "execution_count": null,
   "id": "f5fdf80a-fc7d-4059-8dd8-567367d53863",
   "metadata": {},
   "outputs": [],
   "source": [
    "# # Given longer ids with some kind of a pattern, take only a portion of the id as the gene name. \n",
    "# # For instance, if the id is XXX_XXXX_GENEID we want to keep only the third column, using '_' as \n",
    "# # a delimiter. \n",
    "# # If no delimiter is specified, '_' is assumed. \n",
    "# synteny.proteome_id_trim('sp1', position = 3)"
   ]
  },
  {
   "cell_type": "code",
   "execution_count": null,
   "id": "f166ae43-a103-4947-a559-ef94d81efccd",
   "metadata": {},
   "outputs": [],
   "source": [
    "# # Modify select headers to add species code to gene names and remove description information. \n",
    "# # This would yield more precise proteomes to feed into orthofinder. \n",
    "# # Run this with either a list containing a subset of species to modify, or run without \n",
    "# # any parameters to modify all proteomes in species_codes. \n",
    "# synteny.proteome_add_species()\n",
    "# synteny.write_proteomes()"
   ]
  },
  {
   "cell_type": "code",
   "execution_count": null,
   "id": "8ac0252e-e3cf-435c-a88a-d38b26afd841",
   "metadata": {
    "scrolled": true
   },
   "outputs": [],
   "source": [
    "# ##########\n",
    "# ## Running OrthoFinder\n",
    "# ##########\n",
    "# # This only needs to be done once per set of species so keep it commented out to avoid running \n",
    "# # it accidentally\n",
    "# synteny.run_orthofinder(orthofinder_path, threads)"
   ]
  },
  {
   "cell_type": "code",
   "execution_count": null,
   "id": "7f137104-e55c-4655-a144-1053a64efa73",
   "metadata": {},
   "outputs": [],
   "source": [
    "# synteny.incorporate_orthofinder()"
   ]
  },
  {
   "cell_type": "code",
   "execution_count": null,
   "id": "e40781ec-2207-4f08-85c0-dd4e1079155b",
   "metadata": {
    "scrolled": true
   },
   "outputs": [],
   "source": [
    "# Get the single copy orthologues from the orthogroups file from orthofinder results. \n",
    "synteny.single_copy_orthologues() "
   ]
  },
  {
   "cell_type": "code",
   "execution_count": null,
   "id": "27e6d0de-c716-401e-88bb-eca3bc7e0f67",
   "metadata": {},
   "outputs": [],
   "source": [
    "# Read the gtf file to a python dataframe. This may take a moment. \n",
    "# Use the 'feature' parameter to filter for only a type of row, ex. 'CDS'\n",
    "# Use the 'protein_id' parameter to search for protein_id in the annotation column\n",
    "# Use the 'equivalence' parameter to define an alternative separator (ex. '=' rather than ' ')\n",
    "\n",
    "# Tip: If you are uncertain about which annotation types or features to use, \n",
    "# run the line with no additional parameters first and examine the resulting dataframe. \n",
    "synteny.gtf_to_dataframe('sp1')"
   ]
  },
  {
   "cell_type": "code",
   "execution_count": null,
   "id": "7a886ecb-d018-4e0e-86c2-b51be540235d",
   "metadata": {
    "scrolled": true
   },
   "outputs": [],
   "source": [
    "# Making the dataframes. Change the parameters to fit your input data: \n",
    "synteny.gtf_to_dataframe('sp1', annotation_type = 'gene_id',)\n",
    "synteny.gtf_to_dataframe('sp2', annotation_type = 'transcript_id', feature = 'CDS')\n",
    "synteny.gtf_to_dataframe('sp3', annotation_type = 'transcript_id', feature = 'CDS')"
   ]
  },
  {
   "cell_type": "code",
   "execution_count": null,
   "id": "1a3b0efc-ce60-456d-88a1-806bd2131fe1",
   "metadata": {},
   "outputs": [],
   "source": [
    "# Modify the annotation names to include the species codes followed by a pipe\n",
    "# This matches the proteome_add_species() function. \n",
    "synteny.gtf_add_species()"
   ]
  },
  {
   "cell_type": "code",
   "execution_count": null,
   "id": "61684228-24f3-4cba-b220-1a401b8d845e",
   "metadata": {
    "scrolled": true
   },
   "outputs": [],
   "source": [
    "# View the gtf file information for a species\n",
    "synteny.species_data['sp1']['gene_rows']"
   ]
  },
  {
   "cell_type": "code",
   "execution_count": null,
   "id": "509bd463-9164-480c-9fc7-c167c70863ad",
   "metadata": {},
   "outputs": [],
   "source": [
    "# Looking at both the single copy orthogroups and the gene annotations, there will\n",
    "# sometimes be a slight 'mismatch' between the gene ids of these groups. For instance, \n",
    "# choosing transcript_id vs gene_id in the previous step would produce annotations with/without \n",
    "# a .t# suffix. While this discrepency will not significantly alter the results, it will\n",
    "# cause difficulty in matching orthologous genes to their annotations. \n",
    "# \n",
    "# If this is an issue and a species has an extra suffix in the proteome used initially, \n",
    "# we can use the truncate_sco('Species_code', 'Suffix') function. Alternatively, the \n",
    "# truncate_gene_rows() function does the same thing for gene row. \n",
    "#\n",
    "# This is often not necessary to run. \n",
    "# synteny.truncate_sco('sp1', '.')"
   ]
  },
  {
   "cell_type": "code",
   "execution_count": null,
   "id": "4662d285-7592-4e76-ba2e-856e54a9157b",
   "metadata": {},
   "outputs": [],
   "source": [
    "# Stitch together the orthogroup results with the associated gtf details to get the coordinates \n",
    "# for each gene. \n",
    "synteny.merge_gtf()"
   ]
  },
  {
   "cell_type": "code",
   "execution_count": null,
   "id": "13959937-e816-409e-89d5-e5a05440f984",
   "metadata": {},
   "outputs": [],
   "source": [
    "# Create a 'alg' group based on which chromosome each gene appears on for a given species. \n",
    "# This allows us to later colour genes using this grouping. \n",
    "synteny.trace_chromosomes('sp1') "
   ]
  },
  {
   "cell_type": "code",
   "execution_count": null,
   "id": "1a357bd9-8b49-4de8-8885-72dba715370d",
   "metadata": {},
   "outputs": [],
   "source": [
    "# Starting from the second column, provide a list to define the columns of the output file. \n",
    "# If a given item in the list is a column of the orthogene_coords dataframe, the information \n",
    "# from that column will be used. Otherwise, the string will be repeated for the entire column. \n",
    "# The first column will be an index. \n",
    "\n",
    "# If the keyword 'ALG' is used, the alg or chromosome group will be included in the column. \n",
    "columns = ['annotation', 'sequence', 'start', 'end', 'ALG'] \n",
    "synteny.clean_coords(columns)"
   ]
  },
  {
   "cell_type": "code",
   "execution_count": null,
   "id": "171243c7-cee7-478b-8af1-0e08af7706bf",
   "metadata": {
    "scrolled": true
   },
   "outputs": [],
   "source": [
    "# View the gtf information of a species but only for the genes which have single-copy orthologs across the board \n",
    "synteny.species_data['sp1']['orthogene_coords']"
   ]
  },
  {
   "cell_type": "code",
   "execution_count": null,
   "id": "0627e72b-6c1f-4990-bc3b-7e40f08648a7",
   "metadata": {},
   "outputs": [],
   "source": [
    "# Write the coordinate files to the output folder. \n",
    "synteny.write_coords()"
   ]
  },
  {
   "cell_type": "code",
   "execution_count": null,
   "id": "1fd1eaf6-07aa-4bb4-938d-5f79d5cf2e4a",
   "metadata": {},
   "outputs": [],
   "source": []
  },
  {
   "cell_type": "code",
   "execution_count": null,
   "id": "36630081-13af-4e99-a5a8-0e5857bbed04",
   "metadata": {},
   "outputs": [],
   "source": []
  },
  {
   "cell_type": "code",
   "execution_count": null,
   "id": "50eaf21c-e54e-4599-84c8-d4600109b7cb",
   "metadata": {},
   "outputs": [],
   "source": []
  },
  {
   "cell_type": "code",
   "execution_count": null,
   "id": "e3c39b69-9694-4147-954a-aebeaba9c5a6",
   "metadata": {},
   "outputs": [],
   "source": []
  }
 ],
 "metadata": {
  "kernelspec": {
   "display_name": "Python 3 (ipykernel)",
   "language": "python",
   "name": "python3"
  },
  "language_info": {
   "codemirror_mode": {
    "name": "ipython",
    "version": 3
   },
   "file_extension": ".py",
   "mimetype": "text/x-python",
   "name": "python",
   "nbconvert_exporter": "python",
   "pygments_lexer": "ipython3",
   "version": "3.12.5"
  }
 },
 "nbformat": 4,
 "nbformat_minor": 5
}
